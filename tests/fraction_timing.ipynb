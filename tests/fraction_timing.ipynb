{
 "cells": [
  {
   "cell_type": "code",
   "execution_count": 15,
   "metadata": {},
   "outputs": [],
   "source": [
    "from quicktions import Fraction as Qfraction\n",
    "from cfractions import Fraction as Cfraction\n",
    "from fractions import Fraction as Pfraction\n",
    "import numpy as np\n",
    "import sympy as sy\n",
    "\n",
    "i = Qfraction(1, 10**500)\n",
    "chunks = Qfraction(1, 10**501)"
   ]
  },
  {
   "cell_type": "code",
   "execution_count": 16,
   "metadata": {},
   "outputs": [
    {
     "name": "stdout",
     "output_type": "stream",
     "text": [
      "[-1.3 -1.1555555555555557 -1.011111111111111 -0.8666666666666667\n",
      " -0.7222222222222222 -0.5777777777777777 -0.43333333333333335\n",
      " -0.28888888888888875 -0.14444444444444438 0.0]\n"
     ]
    }
   ],
   "source": [
    "# Y,X = np.ogrid[ Qfraction(-1.3):Qfraction(0):Qfraction(5)*(1j), i:(i+chunks):Qfraction(10)*(1j)]\n",
    "\n",
    "print(np.linspace(Qfraction(-1.3), Qfraction(0), 10, dtype=object))"
   ]
  },
  {
   "cell_type": "code",
   "execution_count": 17,
   "metadata": {},
   "outputs": [
    {
     "name": "stdout",
     "output_type": "stream",
     "text": [
      "20.2 µs ± 4.97 µs per loop (mean ± std. dev. of 7 runs, 10,000 loops each)\n"
     ]
    }
   ],
   "source": [
    "%%timeit\n",
    "Pfraction(1, 10**700)-Pfraction(1, 10**701)"
   ]
  },
  {
   "cell_type": "code",
   "execution_count": 18,
   "metadata": {},
   "outputs": [
    {
     "name": "stdout",
     "output_type": "stream",
     "text": [
      "20.1 µs ± 3.49 µs per loop (mean ± std. dev. of 7 runs, 10,000 loops each)\n"
     ]
    }
   ],
   "source": [
    "%%timeit\n",
    "Qfraction(1, 10**700)-Qfraction(1, 10**701)"
   ]
  },
  {
   "cell_type": "code",
   "execution_count": 19,
   "metadata": {},
   "outputs": [
    {
     "name": "stdout",
     "output_type": "stream",
     "text": [
      "54.3 µs ± 3.86 µs per loop (mean ± std. dev. of 7 runs, 10,000 loops each)\n"
     ]
    }
   ],
   "source": [
    "%%timeit\n",
    "Cfraction(1, 10**700)-Cfraction(1, 10**701)"
   ]
  }
 ],
 "metadata": {
  "kernelspec": {
   "display_name": "Python 3",
   "language": "python",
   "name": "python3"
  },
  "language_info": {
   "codemirror_mode": {
    "name": "ipython",
    "version": 3
   },
   "file_extension": ".py",
   "mimetype": "text/x-python",
   "name": "python",
   "nbconvert_exporter": "python",
   "pygments_lexer": "ipython3",
   "version": "3.11.4"
  },
  "orig_nbformat": 4
 },
 "nbformat": 4,
 "nbformat_minor": 2
}
