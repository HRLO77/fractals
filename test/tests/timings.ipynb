{
 "cells": [
  {
   "cell_type": "code",
   "execution_count": 10,
   "metadata": {},
   "outputs": [
    {
     "ename": "error",
     "evalue": "(len(y)-offy>(n-1)*abs(incy)) failed for 1st keyword n: caxpy:n=750",
     "output_type": "error",
     "traceback": [
      "\u001b[1;31m---------------------------------------------------------------------------\u001b[0m",
      "\u001b[1;31merror\u001b[0m                                     Traceback (most recent call last)",
      "\u001b[1;32mc:\\Users\\owner\\Desktop\\python\\fractals\\timings.ipynb Cell 1\u001b[0m line \u001b[0;36m1\n\u001b[0;32m      <a href='vscode-notebook-cell:/c%3A/Users/owner/Desktop/python/fractals/timings.ipynb#W0sZmlsZQ%3D%3D?line=7'>8</a>\u001b[0m data1 \u001b[39m=\u001b[39m np\u001b[39m.\u001b[39mlinspace(\u001b[39m-\u001b[39m\u001b[39m500\u001b[39m, \u001b[39m250\u001b[39m, \u001b[39m750\u001b[39m, dtype\u001b[39m=\u001b[39mnp\u001b[39m.\u001b[39mfloat32)\n\u001b[0;32m     <a href='vscode-notebook-cell:/c%3A/Users/owner/Desktop/python/fractals/timings.ipynb#W0sZmlsZQ%3D%3D?line=9'>10</a>\u001b[0m data2 \u001b[39m=\u001b[39m np\u001b[39m.\u001b[39marange(\u001b[39m-\u001b[39m\u001b[39m200\u001b[39m, \u001b[39m400\u001b[39m, \u001b[39m750\u001b[39m, dtype\u001b[39m=\u001b[39mnp\u001b[39m.\u001b[39mfloat32)\n\u001b[1;32m---> <a href='vscode-notebook-cell:/c%3A/Users/owner/Desktop/python/fractals/timings.ipynb#W0sZmlsZQ%3D%3D?line=11'>12</a>\u001b[0m axpy \u001b[39m=\u001b[39m blas\u001b[39m.\u001b[39;49mcaxpy(data1, data2)\n\u001b[0;32m     <a href='vscode-notebook-cell:/c%3A/Users/owner/Desktop/python/fractals/timings.ipynb#W0sZmlsZQ%3D%3D?line=13'>14</a>\u001b[0m \u001b[39mprint\u001b[39m(axpy(data1, data2, \u001b[39m750\u001b[39m, data2))\n\u001b[0;32m     <a href='vscode-notebook-cell:/c%3A/Users/owner/Desktop/python/fractals/timings.ipynb#W0sZmlsZQ%3D%3D?line=15'>16</a>\u001b[0m \u001b[39m@numba\u001b[39m\u001b[39m.\u001b[39mnjit(fastmath\u001b[39m=\u001b[39m\u001b[39mTrue\u001b[39;00m, boundscheck\u001b[39m=\u001b[39m\u001b[39mFalse\u001b[39;00m, debug\u001b[39m=\u001b[39m\u001b[39mFalse\u001b[39;00m, looplift\u001b[39m=\u001b[39m\u001b[39mTrue\u001b[39;00m, nogil\u001b[39m=\u001b[39m\u001b[39mFalse\u001b[39;00m, inline\u001b[39m=\u001b[39m\u001b[39m'\u001b[39m\u001b[39mnever\u001b[39m\u001b[39m'\u001b[39m, forceinline\u001b[39m=\u001b[39m\u001b[39mTrue\u001b[39;00m) \n\u001b[0;32m     <a href='vscode-notebook-cell:/c%3A/Users/owner/Desktop/python/fractals/timings.ipynb#W0sZmlsZQ%3D%3D?line=16'>17</a>\u001b[0m \u001b[39mdef\u001b[39;00m \u001b[39mconverge1\u001b[39m(complex_n: \u001b[39mcomplex\u001b[39m, origin: \u001b[39mcomplex\u001b[39m):\n",
      "\u001b[1;31merror\u001b[0m: (len(y)-offy>(n-1)*abs(incy)) failed for 1st keyword n: caxpy:n=750"
     ]
    }
   ],
   "source": [
    "import numba\n",
    "import numpy as np\n",
    "\n",
    "\n",
    "N = 80\n",
    "\n",
    "data1 = np.linspace(-500, 250, 750, dtype=np.float32)\n",
    "\n",
    "data2 = np.arange(-200, 400, 750, dtype=np.float32)\n",
    "\n",
    "\n",
    "@numba.njit(fastmath=True, boundscheck=False, debug=False, looplift=True, nogil=False, inline='never', forceinline=True) \n",
    "def converge1(complex_n: complex, origin: complex):\n",
    "    z = 0\n",
    "    # if complex_n == 0:\n",
    "    #     return 0\n",
    "    # f = {complex_n}\n",
    "    # z = z ** 2+complex_n\n",
    "    for i in range(N):\n",
    "        z = z ** 2+complex_n\n",
    "        p = abs(z)\n",
    "        if (p >= 2) or (p <= -2):\n",
    "            return i\n",
    "    return N\n",
    "@numba.njit(fastmath=True, boundscheck=False, debug=False, looplift=True, nogil=False, inline='always', forceinline=True) \n",
    "def converge(complex_n: complex, origin: complex):\n",
    "    z = 0\n",
    "    # if complex_n == 0:\n",
    "    #     return 0\n",
    "    # f = {complex_n}\n",
    "    # z = z ** 2+complex_n\n",
    "    for i in range(N):\n",
    "        z = z ** 2+complex_n\n",
    "        p = abs(z)\n",
    "        if (p >= 2) or (p <= -2):\n",
    "            return i\n",
    "    return N\n",
    "\n",
    "converge(*[-13.5235323j]*2)\n",
    "\n",
    "converge1(*[-13.5235323j]*2)\n"
   ]
  },
  {
   "cell_type": "code",
   "execution_count": null,
   "metadata": {},
   "outputs": [
    {
     "name": "stdout",
     "output_type": "stream",
     "text": [
      "485 ns ± 33.2 ns per loop (mean ± std. dev. of 7 runs, 1,000,000 loops each)\n"
     ]
    }
   ],
   "source": [
    "%%timeit\n",
    "\n",
    "converge(*[-13.5235323j]*2)\n"
   ]
  }
 ],
 "metadata": {
  "kernelspec": {
   "display_name": "Python 3",
   "language": "python",
   "name": "python3"
  },
  "language_info": {
   "codemirror_mode": {
    "name": "ipython",
    "version": 3
   },
   "file_extension": ".py",
   "mimetype": "text/x-python",
   "name": "python",
   "nbconvert_exporter": "python",
   "pygments_lexer": "ipython3",
   "version": "3.11.4"
  },
  "orig_nbformat": 4
 },
 "nbformat": 4,
 "nbformat_minor": 2
}
