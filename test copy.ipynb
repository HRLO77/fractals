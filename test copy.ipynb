{
 "cells": [
  {
   "cell_type": "code",
   "execution_count": 2,
   "metadata": {},
   "outputs": [
    {
     "name": "stdout",
     "output_type": "stream",
     "text": [
      "(-1.985-0.0028j)\n",
      "(1.9552171600000003+0.008316j)\n",
      "(1.8378049869024669+0.029719171805120004j)\n",
      "(1.3916439407107941+0.10643608430012147j)\n",
      "(-0.059655782324074424+0.2934422635784946j)\n",
      "(-2.0675495496893737-0.037811055601444696j)\n",
      "(-1.985-0.0028j)  is not inside mandelbrot set upto a check of  6\n",
      "None\n"
     ]
    }
   ],
   "source": [
    "from os import add_dll_directory\n",
    "add_dll_directory('/MinGW/bin/')\n",
    "import importlib\n",
    "from src import fractions as cyfractions\n",
    "import fractions\n",
    "import quicktions\n",
    "from decimal import Decimal\n",
    "from tests.pynum import cydecimal\n",
    "import decimal\n",
    "\n",
    "decimal.Context(95)\n",
    "    \n",
    "def in_mandel(c,max_ita=1000):\n",
    "    z = 0\n",
    "    for i in range(max_ita):\n",
    "        z = z**2 + c\n",
    "        print(z)\n",
    "        if abs(z)>=2:\n",
    "            print(c,\" is not inside mandelbrot set upto a check of \",(i+1))\n",
    "            break\n",
    "        if i==max_ita-1 and abs(z)<2:\n",
    "            print(c,\" is inside mandelbrot set upto a check of \",max_ita)\n",
    "\n",
    "print(in_mandel(-1.985+ -0.0028j))"
   ]
  },
  {
   "cell_type": "code",
   "execution_count": 12,
   "metadata": {},
   "outputs": [
    {
     "name": "stdout",
     "output_type": "stream",
     "text": [
      "1.0 11.166666666666666 1\n",
      "124.69444444444444 11.166666666666666 1\n",
      "135.86111111111111 11.166666666666666 1\n",
      "135.86111111111111 1.0 1\n",
      "1.0 11.166666666666666 2\n",
      "124.69444444444444 11.166666666666666 2\n",
      "135.86111111111111 11.166666666666666 2\n",
      "135.86111111111111 1.0 2\n"
     ]
    }
   ],
   "source": [
    "temp = cyfractions.fraction(numerator=1, denominator=1)\n",
    "f =  cyfractions.fraction(numerator=134, denominator=12)\n",
    "print(cyfractions.as_double(temp), cyfractions.as_double(f), 1)\n",
    "\n",
    "temp = cyfractions.mult_fractions(f, f)\n",
    "print(cyfractions.as_double(temp), cyfractions.as_double(f), 1)\n",
    "\n",
    "temp = cyfractions.add_fractions(temp, f)\n",
    "print(cyfractions.as_double(temp), cyfractions.as_double(f), 1)\n",
    "\n",
    "f = cyfractions.div_fractions(temp, temp)\n",
    "print(cyfractions.as_double(temp), cyfractions.as_double(f), 1)\n",
    "\n",
    "frac1 = fractions.Fraction(1, 1)\n",
    "frac2 = fractions.Fraction(134, 12)\n",
    "print(frac1.numerator/frac1.denominator, frac2.numerator/frac2.denominator, 2)\n",
    "\n",
    "frac1 = frac2*frac2\n",
    "print(frac1.numerator/frac1.denominator, frac2.numerator/frac2.denominator, 2)\n",
    "\n",
    "frac1 = frac1+frac2\n",
    "print(frac1.numerator/frac1.denominator, frac2.numerator/frac2.denominator, 2)\n",
    "\n",
    "frac2 = frac1/frac1\n",
    "\n",
    "print(frac1.numerator/frac1.denominator, frac2.numerator/frac2.denominator, 2)"
   ]
  },
  {
   "cell_type": "code",
   "execution_count": null,
   "metadata": {},
   "outputs": [],
   "source": []
  },
  {
   "cell_type": "code",
   "execution_count": 20,
   "metadata": {},
   "outputs": [
    {
     "name": "stdout",
     "output_type": "stream",
     "text": [
      "1.77 µs ± 66.8 ns per loop (mean ± std. dev. of 7 runs, 1,000,000 loops each)\n"
     ]
    }
   ],
   "source": [
    "%%timeit x = (cydecimal(1.284))\n",
    "\n",
    "x**2"
   ]
  },
  {
   "cell_type": "code",
   "execution_count": 14,
   "metadata": {},
   "outputs": [
    {
     "name": "stdout",
     "output_type": "stream",
     "text": [
      "839 ns ± 58 ns per loop (mean ± std. dev. of 7 runs, 1,000,000 loops each)\n"
     ]
    }
   ],
   "source": [
    "%%timeit \n",
    "f = cyfractions.fraction(numerator=1544353451212332142, denominator=2312);\n",
    "f1 = cyfractions.fraction(numerator=123213123, denominator=2345354512);\n",
    "cyfractions.mult_fractions(f, f1)"
   ]
  },
  {
   "cell_type": "code",
   "execution_count": 15,
   "metadata": {},
   "outputs": [
    {
     "name": "stdout",
     "output_type": "stream",
     "text": [
      "1.44 µs ± 60.1 ns per loop (mean ± std. dev. of 7 runs, 1,000,000 loops each)\n"
     ]
    }
   ],
   "source": [
    "%%timeit \n",
    "f = quicktions.Fraction(1544353451212332142, 2312);\n",
    "f1 = quicktions.Fraction(123213123, 2345354512);\n",
    "f*f"
   ]
  },
  {
   "cell_type": "code",
   "execution_count": 16,
   "metadata": {},
   "outputs": [
    {
     "name": "stdout",
     "output_type": "stream",
     "text": [
      "3.68 µs ± 261 ns per loop (mean ± std. dev. of 7 runs, 100,000 loops each)\n"
     ]
    }
   ],
   "source": [
    "%%timeit\n",
    "f = fractions.Fraction(1544353451212332142, 2312);\n",
    "f1 = fractions.Fraction(123213123, 2345354512);\n",
    "f*f"
   ]
  },
  {
   "cell_type": "code",
   "execution_count": 17,
   "metadata": {},
   "outputs": [
    {
     "name": "stdout",
     "output_type": "stream",
     "text": [
      "61.8 ns ± 5.48 ns per loop (mean ± std. dev. of 7 runs, 10,000,000 loops each)\n"
     ]
    }
   ],
   "source": [
    "%%timeit\n",
    "f = 1544353451212332142/2312\n",
    "f1 = 123213123/2345354512\n",
    "f*f1"
   ]
  },
  {
   "cell_type": "code",
   "execution_count": 19,
   "metadata": {},
   "outputs": [
    {
     "name": "stdout",
     "output_type": "stream",
     "text": [
      "509 ns ± 22.6 ns per loop (mean ± std. dev. of 7 runs, 1,000,000 loops each)\n"
     ]
    }
   ],
   "source": [
    "%%timeit f = Decimal(1.284)\n",
    "f**2"
   ]
  }
 ],
 "metadata": {
  "kernelspec": {
   "display_name": "Python 3",
   "language": "python",
   "name": "python3"
  },
  "language_info": {
   "codemirror_mode": {
    "name": "ipython",
    "version": 3
   },
   "file_extension": ".py",
   "mimetype": "text/x-python",
   "name": "python",
   "nbconvert_exporter": "python",
   "pygments_lexer": "ipython3",
   "version": "3.12.8"
  }
 },
 "nbformat": 4,
 "nbformat_minor": 2
}
