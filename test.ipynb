{
 "cells": [
  {
   "cell_type": "code",
   "execution_count": 20,
   "metadata": {},
   "outputs": [],
   "source": [
    "import importlib\n",
    "from src import fractions as cyfractions\n",
    "import fractions\n",
    "import quicktions\n",
    "from decimal import Decimal\n",
    "    "
   ]
  },
  {
   "cell_type": "code",
   "execution_count": 21,
   "metadata": {},
   "outputs": [
    {
     "name": "stdout",
     "output_type": "stream",
     "text": [
      "1.0 11.166666666666666 1\n",
      "124.69444444444444 11.166666666666666 1\n",
      "135.86111111111111 11.166666666666666 1\n",
      "135.86111111111111 1.0 1\n",
      "1.0 11.166666666666666 2\n",
      "124.69444444444444 11.166666666666666 2\n",
      "135.86111111111111 11.166666666666666 2\n",
      "135.86111111111111 1.0 2\n"
     ]
    }
   ],
   "source": [
    "temp = cyfractions.fraction(numerator=1, denominator=1)\n",
    "f =  cyfractions.fraction(numerator=134, denominator=12)\n",
    "print(cyfractions.as_double(temp), cyfractions.as_double(f), 1)\n",
    "\n",
    "temp = cyfractions.mult_fractions(f, f)\n",
    "print(cyfractions.as_double(temp), cyfractions.as_double(f), 1)\n",
    "\n",
    "temp = cyfractions.add_fractions(temp, f)\n",
    "print(cyfractions.as_double(temp), cyfractions.as_double(f), 1)\n",
    "\n",
    "f = cyfractions.div_fractions(temp, temp)\n",
    "print(cyfractions.as_double(temp), cyfractions.as_double(f), 1)\n",
    "\n",
    "frac1 = fractions.Fraction(1, 1)\n",
    "frac2 = fractions.Fraction(134, 12)\n",
    "print(frac1.numerator/frac1.denominator, frac2.numerator/frac2.denominator, 2)\n",
    "\n",
    "frac1 = frac2*frac2\n",
    "print(frac1.numerator/frac1.denominator, frac2.numerator/frac2.denominator, 2)\n",
    "\n",
    "frac1 = frac1+frac2\n",
    "print(frac1.numerator/frac1.denominator, frac2.numerator/frac2.denominator, 2)\n",
    "\n",
    "frac2 = frac1/frac1\n",
    "\n",
    "print(frac1.numerator/frac1.denominator, frac2.numerator/frac2.denominator, 2)"
   ]
  },
  {
   "cell_type": "code",
   "execution_count": 22,
   "metadata": {},
   "outputs": [],
   "source": [
    "%%timeit f = cyfractions.fraction(numerator=1544353451212332142, denominator=2312);\n",
    "\n",
    "cyfractions.square(f)"
   ]
  },
  {
   "cell_type": "code",
   "execution_count": null,
   "metadata": {},
   "outputs": [
    {
     "name": "stdout",
     "output_type": "stream",
     "text": [
      "459 ns ± 35.2 ns per loop (mean ± std. dev. of 7 runs, 1,000,000 loops each)\n"
     ]
    }
   ],
   "source": [
    "%%timeit f = quicktions.Fraction(1544353451212332142, 2312);\n",
    "\n",
    "f**2"
   ]
  },
  {
   "cell_type": "code",
   "execution_count": null,
   "metadata": {},
   "outputs": [
    {
     "name": "stdout",
     "output_type": "stream",
     "text": [
      "1.8 µs ± 123 ns per loop (mean ± std. dev. of 7 runs, 100,000 loops each)\n"
     ]
    }
   ],
   "source": [
    "%%timeit f = fractions.Fraction(1544353451212332142, 2312);\n",
    "\n",
    "f+1"
   ]
  },
  {
   "cell_type": "code",
   "execution_count": null,
   "metadata": {},
   "outputs": [
    {
     "name": "stdout",
     "output_type": "stream",
     "text": [
      "49.7 ns ± 4.27 ns per loop (mean ± std. dev. of 7 runs, 10,000,000 loops each)\n"
     ]
    }
   ],
   "source": [
    "%%timeit f = 1544353451212332142/2312\n",
    "f+1"
   ]
  },
  {
   "cell_type": "code",
   "execution_count": null,
   "metadata": {},
   "outputs": [
    {
     "name": "stdout",
     "output_type": "stream",
     "text": [
      "164 ns ± 9.2 ns per loop (mean ± std. dev. of 7 runs, 10,000,000 loops each)\n"
     ]
    }
   ],
   "source": [
    "%%timeit f = Decimal(1544353451212332142)/Decimal(2312)\n",
    "f+1"
   ]
  }
 ],
 "metadata": {
  "kernelspec": {
   "display_name": "Python 3",
   "language": "python",
   "name": "python3"
  },
  "language_info": {
   "codemirror_mode": {
    "name": "ipython",
    "version": 3
   },
   "file_extension": ".py",
   "mimetype": "text/x-python",
   "name": "python",
   "nbconvert_exporter": "python",
   "pygments_lexer": "ipython3",
   "version": "3.12.0"
  }
 },
 "nbformat": 4,
 "nbformat_minor": 2
}
