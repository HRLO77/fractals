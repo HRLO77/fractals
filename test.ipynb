{
 "cells": [
  {
   "cell_type": "code",
   "execution_count": 1,
   "metadata": {},
   "outputs": [],
   "source": [
    "from os import add_dll_directory\n",
    "add_dll_directory('/MinGW/bin/')\n",
    "import importlib\n",
    "from src import fractions as cyfractions\n",
    "import fractions\n",
    "import quicktions\n",
    "from decimal import Decimal\n",
    "from tests.cynum import test\n",
    "\n",
    "    "
   ]
  },
  {
   "cell_type": "code",
   "execution_count": 2,
   "metadata": {},
   "outputs": [
    {
     "name": "stdout",
     "output_type": "stream",
     "text": [
      "1.0 11.166666666666666 1\n",
      "124.69444444444444 11.166666666666666 1\n",
      "135.86111111111111 11.166666666666666 1\n",
      "135.86111111111111 1.0 1\n",
      "1.0 11.166666666666666 2\n",
      "124.69444444444444 11.166666666666666 2\n",
      "135.86111111111111 11.166666666666666 2\n",
      "135.86111111111111 1.0 2\n"
     ]
    }
   ],
   "source": [
    "temp = cyfractions.fraction(numerator=1, denominator=1)\n",
    "f =  cyfractions.fraction(numerator=134, denominator=12)\n",
    "print(cyfractions.as_double(temp), cyfractions.as_double(f), 1)\n",
    "\n",
    "temp = cyfractions.mult_fractions(f, f)\n",
    "print(cyfractions.as_double(temp), cyfractions.as_double(f), 1)\n",
    "\n",
    "temp = cyfractions.add_fractions(temp, f)\n",
    "print(cyfractions.as_double(temp), cyfractions.as_double(f), 1)\n",
    "\n",
    "f = cyfractions.div_fractions(temp, temp)\n",
    "print(cyfractions.as_double(temp), cyfractions.as_double(f), 1)\n",
    "\n",
    "frac1 = fractions.Fraction(1, 1)\n",
    "frac2 = fractions.Fraction(134, 12)\n",
    "print(frac1.numerator/frac1.denominator, frac2.numerator/frac2.denominator, 2)\n",
    "\n",
    "frac1 = frac2*frac2\n",
    "print(frac1.numerator/frac1.denominator, frac2.numerator/frac2.denominator, 2)\n",
    "\n",
    "frac1 = frac1+frac2\n",
    "print(frac1.numerator/frac1.denominator, frac2.numerator/frac2.denominator, 2)\n",
    "\n",
    "frac2 = frac1/frac1\n",
    "\n",
    "print(frac1.numerator/frac1.denominator, frac2.numerator/frac2.denominator, 2)"
   ]
  },
  {
   "cell_type": "code",
   "execution_count": null,
   "metadata": {},
   "outputs": [],
   "source": []
  },
  {
   "cell_type": "code",
   "execution_count": 3,
   "metadata": {},
   "outputs": [
    {
     "name": "stdout",
     "output_type": "stream",
     "text": [
      "246 ns ± 9.36 ns per loop (mean ± std. dev. of 7 runs, 1,000,000 loops each)\n"
     ]
    }
   ],
   "source": [
    "%%timeit\n",
    "test()"
   ]
  },
  {
   "cell_type": "code",
   "execution_count": 4,
   "metadata": {},
   "outputs": [
    {
     "name": "stdout",
     "output_type": "stream",
     "text": [
      "479 ns ± 17.6 ns per loop (mean ± std. dev. of 7 runs, 1,000,000 loops each)\n"
     ]
    }
   ],
   "source": [
    "%%timeit \n",
    "f = cyfractions.fraction(numerator=1544353451212332142, denominator=2312);\n",
    "cyfractions.sub_fractions(f, f)"
   ]
  },
  {
   "cell_type": "code",
   "execution_count": 5,
   "metadata": {},
   "outputs": [
    {
     "name": "stdout",
     "output_type": "stream",
     "text": [
      "824 ns ± 54.6 ns per loop (mean ± std. dev. of 7 runs, 1,000,000 loops each)\n"
     ]
    }
   ],
   "source": [
    "%%timeit \n",
    "f = quicktions.Fraction(1544353451212332142, 2312);\n",
    "\n",
    "f-f"
   ]
  },
  {
   "cell_type": "code",
   "execution_count": 6,
   "metadata": {},
   "outputs": [
    {
     "name": "stdout",
     "output_type": "stream",
     "text": [
      "2.28 µs ± 77.9 ns per loop (mean ± std. dev. of 7 runs, 100,000 loops each)\n"
     ]
    }
   ],
   "source": [
    "%%timeit\n",
    "f = fractions.Fraction(1544353451212332142, 2312);\n",
    "f-f"
   ]
  },
  {
   "cell_type": "code",
   "execution_count": 7,
   "metadata": {},
   "outputs": [
    {
     "name": "stdout",
     "output_type": "stream",
     "text": [
      "43.1 ns ± 1.26 ns per loop (mean ± std. dev. of 7 runs, 10,000,000 loops each)\n"
     ]
    }
   ],
   "source": [
    "%%timeit\n",
    "f = 1544353451212332142/2312\n",
    "f-f"
   ]
  },
  {
   "cell_type": "code",
   "execution_count": 8,
   "metadata": {},
   "outputs": [
    {
     "name": "stdout",
     "output_type": "stream",
     "text": [
      "581 ns ± 61.6 ns per loop (mean ± std. dev. of 7 runs, 1,000,000 loops each)\n"
     ]
    }
   ],
   "source": [
    "%%timeit\n",
    "f = Decimal(1544353451212332142)/Decimal(2312)\n",
    "f-f"
   ]
  }
 ],
 "metadata": {
  "kernelspec": {
   "display_name": "Python 3",
   "language": "python",
   "name": "python3"
  },
  "language_info": {
   "codemirror_mode": {
    "name": "ipython",
    "version": 3
   },
   "file_extension": ".py",
   "mimetype": "text/x-python",
   "name": "python",
   "nbconvert_exporter": "python",
   "pygments_lexer": "ipython3",
   "version": "3.12.0"
  }
 },
 "nbformat": 4,
 "nbformat_minor": 2
}
