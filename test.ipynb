{
 "cells": [
  {
   "cell_type": "code",
   "execution_count": 10,
   "metadata": {},
   "outputs": [],
   "source": [
    "from os import add_dll_directory\n",
    "add_dll_directory('/MinGW/bin/')\n",
    "import importlib\n",
    "from src import fractions as cyfractions\n",
    "import fractions\n",
    "import quicktions\n",
    "from decimal import Decimal\n",
    "from src.cydecimal import add_decimals, subtract_decimals, new_decimal_from_int, new_decimal_from_string, new_decimal_from_large_double, dec_2_str\n",
    "\n",
    "    "
   ]
  },
  {
   "cell_type": "code",
   "execution_count": 11,
   "metadata": {},
   "outputs": [
    {
     "name": "stdout",
     "output_type": "stream",
     "text": [
      "1.0 11.166666666666666 1\n",
      "124.69444444444444 11.166666666666666 1\n",
      "135.86111111111111 11.166666666666666 1\n",
      "135.86111111111111 1.0 1\n",
      "1.0 11.166666666666666 2\n",
      "124.69444444444444 11.166666666666666 2\n",
      "135.86111111111111 11.166666666666666 2\n",
      "135.86111111111111 1.0 2\n"
     ]
    }
   ],
   "source": [
    "temp = cyfractions.fraction(numerator=1, denominator=1)\n",
    "f =  cyfractions.fraction(numerator=134, denominator=12)\n",
    "print(cyfractions.as_double(temp), cyfractions.as_double(f), 1)\n",
    "\n",
    "temp = cyfractions.mult_fractions(f, f)\n",
    "print(cyfractions.as_double(temp), cyfractions.as_double(f), 1)\n",
    "\n",
    "temp = cyfractions.add_fractions(temp, f)\n",
    "print(cyfractions.as_double(temp), cyfractions.as_double(f), 1)\n",
    "\n",
    "f = cyfractions.div_fractions(temp, temp)\n",
    "print(cyfractions.as_double(temp), cyfractions.as_double(f), 1)\n",
    "\n",
    "frac1 = fractions.Fraction(1, 1)\n",
    "frac2 = fractions.Fraction(134, 12)\n",
    "print(frac1.numerator/frac1.denominator, frac2.numerator/frac2.denominator, 2)\n",
    "\n",
    "frac1 = frac2*frac2\n",
    "print(frac1.numerator/frac1.denominator, frac2.numerator/frac2.denominator, 2)\n",
    "\n",
    "frac1 = frac1+frac2\n",
    "print(frac1.numerator/frac1.denominator, frac2.numerator/frac2.denominator, 2)\n",
    "\n",
    "frac2 = frac1/frac1\n",
    "\n",
    "print(frac1.numerator/frac1.denominator, frac2.numerator/frac2.denominator, 2)"
   ]
  },
  {
   "cell_type": "code",
   "execution_count": 12,
   "metadata": {},
   "outputs": [],
   "source": [
    "dec1 = new_decimal_from_string(b'1294.0')\n",
    "for i in dec1['digits']:\n",
    "    print(i)"
   ]
  },
  {
   "cell_type": "code",
   "execution_count": 13,
   "metadata": {},
   "outputs": [
    {
     "ename": "IndexError",
     "evalue": "not enough values found during array assignment, expected 200, got 0",
     "output_type": "error",
     "traceback": [
      "\u001b[1;31m---------------------------------------------------------------------------\u001b[0m",
      "\u001b[1;31mIndexError\u001b[0m                                Traceback (most recent call last)",
      "Cell \u001b[1;32mIn[13], line 1\u001b[0m\n\u001b[1;32m----> 1\u001b[0m \u001b[43mget_ipython\u001b[49m\u001b[43m(\u001b[49m\u001b[43m)\u001b[49m\u001b[38;5;241;43m.\u001b[39;49m\u001b[43mrun_cell_magic\u001b[49m\u001b[43m(\u001b[49m\u001b[38;5;124;43m'\u001b[39;49m\u001b[38;5;124;43mtimeit\u001b[39;49m\u001b[38;5;124;43m'\u001b[39;49m\u001b[43m,\u001b[49m\u001b[43m \u001b[49m\u001b[38;5;124;43m'\u001b[39;49m\u001b[38;5;124;43m'\u001b[39;49m\u001b[43m,\u001b[49m\u001b[43m \u001b[49m\u001b[38;5;124;43m'\u001b[39;49m\u001b[38;5;124;43msubtract_decimals(dec1, dec1)\u001b[39;49m\u001b[38;5;130;43;01m\\n\u001b[39;49;00m\u001b[38;5;124;43m'\u001b[39;49m\u001b[43m)\u001b[49m\n",
      "File \u001b[1;32m~\\AppData\\Roaming\\Python\\Python312\\site-packages\\IPython\\core\\interactiveshell.py:2517\u001b[0m, in \u001b[0;36mInteractiveShell.run_cell_magic\u001b[1;34m(self, magic_name, line, cell)\u001b[0m\n\u001b[0;32m   2515\u001b[0m \u001b[38;5;28;01mwith\u001b[39;00m \u001b[38;5;28mself\u001b[39m\u001b[38;5;241m.\u001b[39mbuiltin_trap:\n\u001b[0;32m   2516\u001b[0m     args \u001b[38;5;241m=\u001b[39m (magic_arg_s, cell)\n\u001b[1;32m-> 2517\u001b[0m     result \u001b[38;5;241m=\u001b[39m \u001b[43mfn\u001b[49m\u001b[43m(\u001b[49m\u001b[38;5;241;43m*\u001b[39;49m\u001b[43margs\u001b[49m\u001b[43m,\u001b[49m\u001b[43m \u001b[49m\u001b[38;5;241;43m*\u001b[39;49m\u001b[38;5;241;43m*\u001b[39;49m\u001b[43mkwargs\u001b[49m\u001b[43m)\u001b[49m\n\u001b[0;32m   2519\u001b[0m \u001b[38;5;66;03m# The code below prevents the output from being displayed\u001b[39;00m\n\u001b[0;32m   2520\u001b[0m \u001b[38;5;66;03m# when using magics with decorator @output_can_be_silenced\u001b[39;00m\n\u001b[0;32m   2521\u001b[0m \u001b[38;5;66;03m# when the last Python token in the expression is a ';'.\u001b[39;00m\n\u001b[0;32m   2522\u001b[0m \u001b[38;5;28;01mif\u001b[39;00m \u001b[38;5;28mgetattr\u001b[39m(fn, magic\u001b[38;5;241m.\u001b[39mMAGIC_OUTPUT_CAN_BE_SILENCED, \u001b[38;5;28;01mFalse\u001b[39;00m):\n",
      "File \u001b[1;32m~\\AppData\\Roaming\\Python\\Python312\\site-packages\\IPython\\core\\magics\\execution.py:1185\u001b[0m, in \u001b[0;36mExecutionMagics.timeit\u001b[1;34m(self, line, cell, local_ns)\u001b[0m\n\u001b[0;32m   1183\u001b[0m \u001b[38;5;28;01mfor\u001b[39;00m index \u001b[38;5;129;01min\u001b[39;00m \u001b[38;5;28mrange\u001b[39m(\u001b[38;5;241m0\u001b[39m, \u001b[38;5;241m10\u001b[39m):\n\u001b[0;32m   1184\u001b[0m     number \u001b[38;5;241m=\u001b[39m \u001b[38;5;241m10\u001b[39m \u001b[38;5;241m*\u001b[39m\u001b[38;5;241m*\u001b[39m index\n\u001b[1;32m-> 1185\u001b[0m     time_number \u001b[38;5;241m=\u001b[39m \u001b[43mtimer\u001b[49m\u001b[38;5;241;43m.\u001b[39;49m\u001b[43mtimeit\u001b[49m\u001b[43m(\u001b[49m\u001b[43mnumber\u001b[49m\u001b[43m)\u001b[49m\n\u001b[0;32m   1186\u001b[0m     \u001b[38;5;28;01mif\u001b[39;00m time_number \u001b[38;5;241m>\u001b[39m\u001b[38;5;241m=\u001b[39m \u001b[38;5;241m0.2\u001b[39m:\n\u001b[0;32m   1187\u001b[0m         \u001b[38;5;28;01mbreak\u001b[39;00m\n",
      "File \u001b[1;32m~\\AppData\\Roaming\\Python\\Python312\\site-packages\\IPython\\core\\magics\\execution.py:173\u001b[0m, in \u001b[0;36mTimer.timeit\u001b[1;34m(self, number)\u001b[0m\n\u001b[0;32m    171\u001b[0m gc\u001b[38;5;241m.\u001b[39mdisable()\n\u001b[0;32m    172\u001b[0m \u001b[38;5;28;01mtry\u001b[39;00m:\n\u001b[1;32m--> 173\u001b[0m     timing \u001b[38;5;241m=\u001b[39m \u001b[38;5;28;43mself\u001b[39;49m\u001b[38;5;241;43m.\u001b[39;49m\u001b[43minner\u001b[49m\u001b[43m(\u001b[49m\u001b[43mit\u001b[49m\u001b[43m,\u001b[49m\u001b[43m \u001b[49m\u001b[38;5;28;43mself\u001b[39;49m\u001b[38;5;241;43m.\u001b[39;49m\u001b[43mtimer\u001b[49m\u001b[43m)\u001b[49m\n\u001b[0;32m    174\u001b[0m \u001b[38;5;28;01mfinally\u001b[39;00m:\n\u001b[0;32m    175\u001b[0m     \u001b[38;5;28;01mif\u001b[39;00m gcold:\n",
      "File \u001b[1;32m<magic-timeit>:1\u001b[0m, in \u001b[0;36minner\u001b[1;34m(_it, _timer)\u001b[0m\n",
      "File \u001b[1;32mc:\\Users\\owner\\Desktop\\python\\fractals\\src\\cydecimal.pxd:115\u001b[0m, in \u001b[0;36msrc.cydecimal.subtract_decimals\u001b[1;34m()\u001b[0m\n\u001b[0;32m    113\u001b[0m cdef inline _cydecimal _subtract_decimals(_cydecimal first, _cydecimal second) noexcept nogil\n\u001b[0;32m    114\u001b[0m \n\u001b[1;32m--> 115\u001b[0m cpdef inline _cydecimal subtract_decimals(_cydecimal first, _cydecimal second) noexcept nogil:\n\u001b[0;32m    116\u001b[0m     return _subtract_decimals(first, second)\n\u001b[0;32m    117\u001b[0m \n",
      "File \u001b[1;32m<stringsource>:21\u001b[0m, in \u001b[0;36mFromPyStructUtility.__pyx_convert__from_py_struct___cydecimal\u001b[1;34m()\u001b[0m\n",
      "File \u001b[1;32m<stringsource>:95\u001b[0m, in \u001b[0;36mcarray.from_py.__Pyx_carray_from_py_char\u001b[1;34m()\u001b[0m\n",
      "\u001b[1;31mIndexError\u001b[0m: not enough values found during array assignment, expected 200, got 0"
     ]
    }
   ],
   "source": [
    "%%timeit\n",
    "subtract_decimals(dec1, dec1)"
   ]
  },
  {
   "cell_type": "code",
   "execution_count": null,
   "metadata": {},
   "outputs": [],
   "source": [
    "%%timeit f = cyfractions.fraction(numerator=1544353451212332142, denominator=2312);\n",
    "\n",
    "cyfractions.sub_fractions(f, f)"
   ]
  },
  {
   "cell_type": "code",
   "execution_count": null,
   "metadata": {},
   "outputs": [
    {
     "name": "stdout",
     "output_type": "stream",
     "text": [
      "459 ns ± 35.2 ns per loop (mean ± std. dev. of 7 runs, 1,000,000 loops each)\n"
     ]
    }
   ],
   "source": [
    "%%timeit f = quicktions.Fraction(1544353451212332142, 2312);\n",
    "\n",
    "f-f"
   ]
  },
  {
   "cell_type": "code",
   "execution_count": null,
   "metadata": {},
   "outputs": [
    {
     "name": "stdout",
     "output_type": "stream",
     "text": [
      "1.8 µs ± 123 ns per loop (mean ± std. dev. of 7 runs, 100,000 loops each)\n"
     ]
    }
   ],
   "source": [
    "%%timeit f = fractions.Fraction(1544353451212332142, 2312);\n",
    "\n",
    "f-f"
   ]
  },
  {
   "cell_type": "code",
   "execution_count": null,
   "metadata": {},
   "outputs": [
    {
     "name": "stdout",
     "output_type": "stream",
     "text": [
      "49.7 ns ± 4.27 ns per loop (mean ± std. dev. of 7 runs, 10,000,000 loops each)\n"
     ]
    }
   ],
   "source": [
    "%%timeit f = 1544353451212332142/2312\n",
    "f-f"
   ]
  },
  {
   "cell_type": "code",
   "execution_count": null,
   "metadata": {},
   "outputs": [
    {
     "name": "stdout",
     "output_type": "stream",
     "text": [
      "164 ns ± 9.2 ns per loop (mean ± std. dev. of 7 runs, 10,000,000 loops each)\n"
     ]
    }
   ],
   "source": [
    "%%timeit f = Decimal(1544353451212332142)/Decimal(2312)\n",
    "f-f"
   ]
  }
 ],
 "metadata": {
  "kernelspec": {
   "display_name": "Python 3",
   "language": "python",
   "name": "python3"
  },
  "language_info": {
   "codemirror_mode": {
    "name": "ipython",
    "version": 3
   },
   "file_extension": ".py",
   "mimetype": "text/x-python",
   "name": "python",
   "nbconvert_exporter": "python",
   "pygments_lexer": "ipython3",
   "version": "3.12.0"
  }
 },
 "nbformat": 4,
 "nbformat_minor": 2
}
